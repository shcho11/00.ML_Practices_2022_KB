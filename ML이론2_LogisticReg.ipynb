{
  "nbformat": 4,
  "nbformat_minor": 0,
  "metadata": {
    "colab": {
      "name": "ML이론2_LogisticReg.ipynb",
      "provenance": [],
      "authorship_tag": "ABX9TyN/49zEtP22jZn8CndYvkmt",
      "include_colab_link": true
    },
    "kernelspec": {
      "name": "python3",
      "display_name": "Python 3"
    },
    "language_info": {
      "name": "python"
    }
  },
  "cells": [
    {
      "cell_type": "markdown",
      "metadata": {
        "id": "view-in-github",
        "colab_type": "text"
      },
      "source": [
        "<a href=\"https://colab.research.google.com/github/shcho11/00.ML_Practices_2022_KB/blob/main/ML%EC%9D%B4%EB%A1%A02_LogisticReg.ipynb\" target=\"_parent\"><img src=\"https://colab.research.google.com/assets/colab-badge.svg\" alt=\"Open In Colab\"/></a>"
      ]
    },
    {
      "cell_type": "markdown",
      "source": [
        "### 이론 내용 출처 : **2022-1 KB ACE Academy DT개발 STEP2 과정**"
      ],
      "metadata": {
        "id": "myK99_eXx3tR"
      }
    },
    {
      "cell_type": "markdown",
      "metadata": {
        "id": "L2gRHJUYTN6i"
      },
      "source": [
        "## Logistic Regression 모델\n",
        "> **`Logistic Regression`** 은 **분류**를 위한 **지도학습** 머신러닝 모델이다.  \n",
        "**종속변수가 이진형 분포**를 보일경우 기존 선형모델로는 해결이 어려움이 있음.  \n",
        "이진형 데이터(바이너리) 종속변수 분류문제를 해결하는데 사용되며 실제로는 클래스가 여러개인 분류문제에도 사용이 가능하다.  \n",
        "\n",
        "<img src=\"https://drive.google.com/uc?id=10GmOoYLDCvGf7atGImyfyuyeZg2qbU72\">\n",
        "\n",
        "위 그림에서 확인 할 수 있듯 기존 선형모델이 풀기 어려운 이진분류 문제를 해결하고자 선형을 비선형으로 변환한 모델이다.  \n",
        "만약 모델(함수)의 출력결과를 0과 1사이로 만들어 줄 수 있다면 즉, 확률 문제로서 접근한다면 분류문제에 사용 가능 하겠다는 아이디어에서 변형 되었다."
      ]
    },
    {
      "cell_type": "markdown",
      "metadata": {
        "id": "YseyH3QHTN6j"
      },
      "source": [
        "## Odds (승산비)\n",
        "> 로지스틱회귀 모델을 확률로서 접근하는데 가장 핵심적인 개념\n",
        "$$ p : 어떤\\ 일이\\ 발생할\\ 확률\\ (승산) $$  \n",
        "$$ Odds = {p \\over {1-p}} $$\n",
        ">> 0 < p < 1  \n",
        "0 < 1-p < 1  \n",
        "p가 0에 가까울 경우 0  \n",
        "p가 1에 가까울 경우 무한대\n",
        "\n",
        "위의 Odds를 그대로 사용하지 않고 log를 취해 사용하면 0을 기준으로 상호대칭적이며, 계산이 수월한 수식이 완성 됩니다.  \n",
        "기존 선형회귀식에서 y위치에 log Odds를 적용하면 아래와 같은 식이 되고\n",
        "\n",
        "$$ ln({Y \\over {1-Y}}) = \\beta_0 + \\beta_1x$$\n",
        "\n",
        "이를 다시 y에 대해 정리하면 sigmoid 식이 됩니다.\n",
        "\n",
        "$$ y = {1 \\over {1+\\exp^{-(\\beta_0 + \\beta_1x)}}} $$  \n",
        "\n",
        "<img src=\"https://drive.google.com/uc?id=1Es8gzBJUKirvRLUc17qXdHCrNLX0gghx\">\n",
        "\n",
        "결국 로지스틱 회귀 모델도 $\\beta_0$와 $\\beta_1$ 를 추정하게 됩니다.\n",
        ">> 0 < sigmoid(x) < 1  \n",
        "sigmoid(0) = 0.5  \n",
        "곧 시그모이드 함수를 거친 값을 확률값처럼 생각이 가능해짐"
      ]
    },
    {
      "cell_type": "markdown",
      "metadata": {
        "id": "WGgbqRaeVVsk"
      },
      "source": [
        "## 모델평가\n",
        "> 예측모델인 **`linear regression`** 모델의 경우 최소자승법을 통해 모델을 평가하였다.  \n",
        "분류모델인 **`logistic regression`** 모델은 분류모델 평가 지표를 사용하여 모델을 평가한다.  \n",
        "대표적인 모델평가 함수인 **오차행렬(confusion matrix)** 와 **분류평가표(classification report)** 를 사용한다."
      ]
    },
    {
      "cell_type": "markdown",
      "metadata": {
        "id": "IZanJizTTN6j"
      },
      "source": [
        "### 오차행렬(confusion matrix)\n",
        "<img src=\"https://drive.google.com/uc?id=1I4gkLs1Kji1UCseSU6rsxfi8Sp5Q0MOe\">  \n",
        "TP - True Positive(실제값 1, 예측값 1로 정분류 된 갯수)  \n",
        "FN - False Negative(실제값 1, 예측값 0으로 오분류 된 갯수)  \n",
        "FP - Flase Positive(실제값 0, 예측값 1로 오분류 된 갯수)  \n",
        "TN - True Negative(실제값 0, 예측값 0으로 정분류 된 갯수)"
      ]
    },
    {
      "cell_type": "markdown",
      "metadata": {
        "id": "RJtLcfcXTN6k"
      },
      "source": [
        "### 정확도(Accuracy) - 전체 샘플 중 모델이 바르게 분류한 비율\n",
        "<img src=\"https://drive.google.com/uc?id=1veqNRPag_-PkvGWxDc-1ZPh20L4q9CNB\">  \n",
        "$${TP + TN \\over TP + FN + FP + TN}$$"
      ]
    },
    {
      "cell_type": "markdown",
      "metadata": {
        "id": "rKhBmfbHTN6k"
      },
      "source": [
        "### 정밀도(Precision) - 모델이 positive로 분류한 것 중 실제값이 positive이 비율\n",
        "<img src=\"https://drive.google.com/uc?id=1_JVlZ1KGklpCQF_uiZnp4Wli7leJdPvK\">  \n",
        "$${TP \\over TP + FP}$$"
      ]
    },
    {
      "cell_type": "markdown",
      "metadata": {
        "id": "XnAP7IgnTN6l"
      },
      "source": [
        "### 재현율(Recall) - 실제값이 positive인 것 중 모델이 positive라 분류한 비율\n",
        "<img src=\"https://drive.google.com/uc?id=1dkUFhBtLyivJayOOppjUsU07a10Rh0Fi\">  \n",
        "$${TP \\over TP + FN}$$"
      ]
    },
    {
      "cell_type": "markdown",
      "metadata": {
        "id": "Z8XLWl8lTN6l"
      },
      "source": [
        "### f1-score - precision과 recall의 조화평균\n",
        "<img src=\"https://drive.google.com/uc?id=1tB56v7-P5S5_sFOcxrzEthq3-qyDB7hH\">    \n",
        "$${2 * precision * recall \\over precision + recall}$$  \n",
        "분류 문제의 클래스가 불균형할 때(imbalanced) 사용한다"
      ]
    }
  ]
}