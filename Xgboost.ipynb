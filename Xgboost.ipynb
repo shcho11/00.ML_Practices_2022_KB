{
  "nbformat": 4,
  "nbformat_minor": 0,
  "metadata": {
    "colab": {
      "name": "Xgboost.ipynb",
      "provenance": [],
      "collapsed_sections": [],
      "authorship_tag": "ABX9TyMG4r9bUUbXQZwis84KiSGS",
      "include_colab_link": true
    },
    "kernelspec": {
      "name": "python3",
      "display_name": "Python 3"
    },
    "language_info": {
      "name": "python"
    }
  },
  "cells": [
    {
      "cell_type": "markdown",
      "metadata": {
        "id": "view-in-github",
        "colab_type": "text"
      },
      "source": [
        "<a href=\"https://colab.research.google.com/github/shcho11/00.ML_Practices_2022_KB/blob/main/Xgboost.ipynb\" target=\"_parent\"><img src=\"https://colab.research.google.com/assets/colab-badge.svg\" alt=\"Open In Colab\"/></a>"
      ]
    },
    {
      "cell_type": "code",
      "execution_count": 1,
      "metadata": {
        "colab": {
          "base_uri": "https://localhost:8080/"
        },
        "id": "pU9BFEE14RWm",
        "outputId": "5ba30f07-59ef-4a2c-d169-45d70f56e121"
      },
      "outputs": [
        {
          "output_type": "stream",
          "name": "stdout",
          "text": [
            "Mounted at /content/drive/\n"
          ]
        }
      ],
      "source": [
        "from google.colab import drive\n",
        "drive.mount('/content/drive/')"
      ]
    },
    {
      "cell_type": "markdown",
      "metadata": {
        "id": "Q7ZzeN074El7"
      },
      "source": [
        "### xgboost\n",
        "> 머신러닝 알고리즘 대회인 kaggle, KDD cup등에서 우승을 한 팀들이 xgboost를 많이 활용한 것이 알려지면서 주목받음.  \n",
        "boosting 모델에서 오류를 학습하여 다음 round에 반영시키는 것은 gadient boosting과 큰 차이가 없음.  \n",
        "다만, 학습을 위한 비용함수에 규제화 식이 추가되어 모델이 과적합 되는 것을 방지함.  \n",
        "규제화를 통해 복잡한 모델에 패널티를 부여  \n",
        "\n",
        "$$obj^{(t)} = \\sum_1^{n} l(y_i, \\hat{y}_i^{(t)}) + \\sum_{i=1}^t \\Omega(f_i) $$\n"
      ]
    },
    {
      "cell_type": "code",
      "source": [
        "import numpy as np\n",
        "import pandas as pd\n",
        "import matplotlib.pyplot as plt\n",
        "from sklearn.datasets import load_iris"
      ],
      "metadata": {
        "id": "lWZlrS514zCC"
      },
      "execution_count": 4,
      "outputs": []
    },
    {
      "cell_type": "code",
      "execution_count": 5,
      "metadata": {
        "id": "LInKcJVo4El7",
        "colab": {
          "base_uri": "https://localhost:8080/"
        },
        "outputId": "c46910db-d2fe-4b91-d9b8-dff3ebe46a48"
      },
      "outputs": [
        {
          "output_type": "stream",
          "name": "stdout",
          "text": [
            "Requirement already satisfied: xgboost in /usr/local/lib/python3.7/dist-packages (0.90)\n",
            "Requirement already satisfied: numpy in /usr/local/lib/python3.7/dist-packages (from xgboost) (1.21.6)\n",
            "Requirement already satisfied: scipy in /usr/local/lib/python3.7/dist-packages (from xgboost) (1.4.1)\n"
          ]
        }
      ],
      "source": [
        "# 모델 설치\n",
        "!pip install xgboost"
      ]
    },
    {
      "cell_type": "code",
      "source": [
        "iris = load_iris()\n",
        "x = iris.data # X 설명변수\n",
        "y = iris.target # y 종속변수"
      ],
      "metadata": {
        "id": "ut1HH5D05FQs"
      },
      "execution_count": 18,
      "outputs": []
    },
    {
      "cell_type": "code",
      "source": [
        "y"
      ],
      "metadata": {
        "colab": {
          "base_uri": "https://localhost:8080/"
        },
        "id": "Mo4sslNK7DUF",
        "outputId": "027b39ff-f754-49f1-c3ee-5caca3f4e336"
      },
      "execution_count": 19,
      "outputs": [
        {
          "output_type": "execute_result",
          "data": {
            "text/plain": [
              "array([0, 0, 0, 0, 0, 0, 0, 0, 0, 0, 0, 0, 0, 0, 0, 0, 0, 0, 0, 0, 0, 0,\n",
              "       0, 0, 0, 0, 0, 0, 0, 0, 0, 0, 0, 0, 0, 0, 0, 0, 0, 0, 0, 0, 0, 0,\n",
              "       0, 0, 0, 0, 0, 0, 1, 1, 1, 1, 1, 1, 1, 1, 1, 1, 1, 1, 1, 1, 1, 1,\n",
              "       1, 1, 1, 1, 1, 1, 1, 1, 1, 1, 1, 1, 1, 1, 1, 1, 1, 1, 1, 1, 1, 1,\n",
              "       1, 1, 1, 1, 1, 1, 1, 1, 1, 1, 1, 1, 2, 2, 2, 2, 2, 2, 2, 2, 2, 2,\n",
              "       2, 2, 2, 2, 2, 2, 2, 2, 2, 2, 2, 2, 2, 2, 2, 2, 2, 2, 2, 2, 2, 2,\n",
              "       2, 2, 2, 2, 2, 2, 2, 2, 2, 2, 2, 2, 2, 2, 2, 2, 2, 2])"
            ]
          },
          "metadata": {},
          "execution_count": 19
        }
      ]
    },
    {
      "cell_type": "code",
      "source": [
        "col_nm = iris.feature_names # 설명변수이름\n",
        "col_nm"
      ],
      "metadata": {
        "colab": {
          "base_uri": "https://localhost:8080/"
        },
        "id": "GbGbLVcX7Ic2",
        "outputId": "f6435951-ff19-4848-acee-0444e8874af4"
      },
      "execution_count": 20,
      "outputs": [
        {
          "output_type": "execute_result",
          "data": {
            "text/plain": [
              "['sepal length (cm)',\n",
              " 'sepal width (cm)',\n",
              " 'petal length (cm)',\n",
              " 'petal width (cm)']"
            ]
          },
          "metadata": {},
          "execution_count": 20
        }
      ]
    },
    {
      "cell_type": "code",
      "source": [
        "# 데이터 분할\n",
        "from sklearn.model_selection import train_test_split\n",
        "train_x, test_x, train_y, test_y = train_test_split(x, y, stratify=y)"
      ],
      "metadata": {
        "id": "mPdPmnte7NtS"
      },
      "execution_count": 21,
      "outputs": []
    },
    {
      "cell_type": "code",
      "source": [
        "# 모델 import\n",
        "!pip install xgboost"
      ],
      "metadata": {
        "colab": {
          "base_uri": "https://localhost:8080/"
        },
        "id": "7wTaNa-77Rpu",
        "outputId": "a53381c9-65d3-4922-e9d3-7246cffdbd4d"
      },
      "execution_count": 23,
      "outputs": [
        {
          "output_type": "stream",
          "name": "stdout",
          "text": [
            "Requirement already satisfied: xgboost in /usr/local/lib/python3.7/dist-packages (0.90)\n",
            "Requirement already satisfied: scipy in /usr/local/lib/python3.7/dist-packages (from xgboost) (1.4.1)\n",
            "Requirement already satisfied: numpy in /usr/local/lib/python3.7/dist-packages (from xgboost) (1.21.6)\n"
          ]
        }
      ]
    },
    {
      "cell_type": "code",
      "source": [
        "from xgboost import plot_importance\n",
        "from xgboost import XGBClassifier"
      ],
      "metadata": {
        "id": "Y5m8PX7L9A8P"
      },
      "execution_count": 34,
      "outputs": []
    },
    {
      "cell_type": "code",
      "execution_count": 36,
      "metadata": {
        "ExecuteTime": {
          "end_time": "2021-07-23T19:12:00.134845Z",
          "start_time": "2021-07-23T19:12:00.131855Z"
        },
        "id": "hJmW7Mun4El8",
        "colab": {
          "base_uri": "https://localhost:8080/",
          "height": 91
        },
        "outputId": "767fe99c-1285-4266-9f3f-235536970814"
      },
      "outputs": [
        {
          "output_type": "execute_result",
          "data": {
            "text/plain": [
              "\"\\nxbgoost 주요 파라메터\\nXGBRegressor(\\n    max_depth=3, 트리의 최대 깊이\\n    learning_rate=0.1, 학습률 학습 round별로 가중치를 얼만큼 사용할 것인지 0.01 ~ 0.2 사용\\n    n_estimators=100, 나무 갯수\\n    verbosity=1, \\n    silent=None, 동작메세지 프린트 여부 0, 1\\n    objective='reg:linear', 비용함수 reg:squarederror, binary:logistic, multi:softmax\\n    booster='gbtree', gbtree:트리모델, gblinear:선형모델\\n    n_jobs=1,\\n    nthread=None,\\n    gamma=0,\\n    min_child_weight=1,\\n    max_delta_step=0,\\n    subsample=1,\\n    colsample_bytree=1,\\n    colsample_bylevel=1,\\n    colsample_bynode=1,\\n    reg_alpha=0,\\n    reg_lambda=1,\\n    scale_pos_weight=1,\\n    base_score=0.5,\\n    random_state=0,\\n    seed=None,\\n    missing=None,\\n    importance_type='gain',\\n    **kwargs,\\n)\\n\""
            ],
            "application/vnd.google.colaboratory.intrinsic+json": {
              "type": "string"
            }
          },
          "metadata": {},
          "execution_count": 36
        }
      ],
      "source": [
        "# 모델 생성\n",
        "\n",
        "xgbc = XGBClassifier(n_estimators=100, learning_rate=0.1, max_depth=4)\n",
        "xgbc.fit(train_x, train_y)\n",
        "\n",
        "\n",
        "'''\n",
        "xbgoost 주요 파라메터\n",
        "XGBRegressor(\n",
        "    max_depth=3, 트리의 최대 깊이\n",
        "    learning_rate=0.1, 학습률 학습 round별로 가중치를 얼만큼 사용할 것인지 0.01 ~ 0.2 사용\n",
        "    n_estimators=100, 나무 갯수\n",
        "    verbosity=1, \n",
        "    silent=None, 동작메세지 프린트 여부 0, 1\n",
        "    objective='reg:linear', 비용함수 reg:squarederror, binary:logistic, multi:softmax\n",
        "    booster='gbtree', gbtree:트리모델, gblinear:선형모델\n",
        "    n_jobs=1,\n",
        "    nthread=None,\n",
        "    gamma=0,\n",
        "    min_child_weight=1,\n",
        "    max_delta_step=0,\n",
        "    subsample=1,\n",
        "    colsample_bytree=1,\n",
        "    colsample_bylevel=1,\n",
        "    colsample_bynode=1,\n",
        "    reg_alpha=0,\n",
        "    reg_lambda=1,\n",
        "    scale_pos_weight=1,\n",
        "    base_score=0.5,\n",
        "    random_state=0,\n",
        "    seed=None,\n",
        "    missing=None,\n",
        "    importance_type='gain',\n",
        "    **kwargs,\n",
        ")\n",
        "'''"
      ]
    },
    {
      "cell_type": "code",
      "execution_count": 37,
      "metadata": {
        "ExecuteTime": {
          "end_time": "2021-07-23T19:12:01.383393Z",
          "start_time": "2021-07-23T19:12:01.379362Z"
        },
        "id": "p8eIGgt_4El8"
      },
      "outputs": [],
      "source": [
        "# 모델 예측\n",
        "xgbc_pred = xgbc.predict(test_x)"
      ]
    },
    {
      "cell_type": "code",
      "execution_count": 39,
      "metadata": {
        "ExecuteTime": {
          "end_time": "2021-07-23T19:12:02.729515Z",
          "start_time": "2021-07-23T19:12:02.722063Z"
        },
        "id": "-md-p1N24El8",
        "colab": {
          "base_uri": "https://localhost:8080/"
        },
        "outputId": "533d0327-dcf2-441d-b719-312a21552ea4"
      },
      "outputs": [
        {
          "output_type": "stream",
          "name": "stdout",
          "text": [
            "[[12  0  0]\n",
            " [ 0 12  1]\n",
            " [ 0  1 12]]\n",
            "              precision    recall  f1-score   support\n",
            "\n",
            "           0       1.00      1.00      1.00        12\n",
            "           1       0.92      0.92      0.92        13\n",
            "           2       0.92      0.92      0.92        13\n",
            "\n",
            "    accuracy                           0.95        38\n",
            "   macro avg       0.95      0.95      0.95        38\n",
            "weighted avg       0.95      0.95      0.95        38\n",
            "\n"
          ]
        }
      ],
      "source": [
        "# 평가지표 출력\n",
        "from sklearn.metrics import confusion_matrix, classification_report\n",
        "print(confusion_matrix(test_y, xgbc_pred))\n",
        "print(classification_report(test_y, xgbc_pred))"
      ]
    }
  ]
}