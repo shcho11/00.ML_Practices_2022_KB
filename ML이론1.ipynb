{
  "nbformat": 4,
  "nbformat_minor": 0,
  "metadata": {
    "colab": {
      "name": "ML이론1.ipynb",
      "provenance": [],
      "authorship_tag": "ABX9TyNX6UMPiuH/c5ktPCTS2gmN",
      "include_colab_link": true
    },
    "kernelspec": {
      "name": "python3",
      "display_name": "Python 3"
    },
    "language_info": {
      "name": "python"
    }
  },
  "cells": [
    {
      "cell_type": "markdown",
      "metadata": {
        "id": "view-in-github",
        "colab_type": "text"
      },
      "source": [
        "<a href=\"https://colab.research.google.com/github/shcho11/00.ML_Practices_2022_KB/blob/main/ML%EC%9D%B4%EB%A1%A01.ipynb\" target=\"_parent\"><img src=\"https://colab.research.google.com/assets/colab-badge.svg\" alt=\"Open In Colab\"/></a>"
      ]
    },
    {
      "cell_type": "markdown",
      "source": [
        "### 이론 내용 출처 : **2022-1 KB ACE Academy DT개발 STEP2 과정**"
      ],
      "metadata": {
        "id": "phi-VxdLxQaa"
      }
    },
    {
      "cell_type": "markdown",
      "metadata": {
        "id": "w0wPLlna4lmi"
      },
      "source": [
        "## 머신러닝 데이터 분석 프로세스\n",
        "    1. 문제정의\n",
        "    2. 데이터수집\n",
        "    3. 데이터탐색\n",
        "    4. 데이터전처리\n",
        "    5. 모델링\n",
        "    6. 모델평가\n",
        "    7. 결과보고서 작성"
      ]
    },
    {
      "cell_type": "markdown",
      "metadata": {
        "id": "wIb-UiCM4lmi"
      },
      "source": [
        "### 문제정의\n",
        "데이터를 기반으로 한 모델링으로 어떠한 문제를 해결해야 할지 정의하는 단계  \n",
        "올바른 문제정의가 된다면 이후 프로세스를 진행하기 수월해집니다.\n",
        "통계적 배경지식이 중요(업무 base)\n",
        "\n",
        "문제정의 예시\n",
        "> 1. 기존고객 개인정보를 바탕으로 한 신규고객 고객군 분류  \n",
        "종속변수 : 신규고객 고객군 분류  \n",
        "설명변수 : 기존고객 개인정보(성별, 나이, 지역, 소득, 신용정보, 가입정도등등)  \n",
        "모델 : 분류문제를 해결하기 위한 classification 모델  \n",
        "\n",
        "> 2. 3/4 메모리 반도체 수요 예측  \n",
        "종속변수 : 하이닉스 3/4 메모리 반도체 수요  \n",
        "설명변수 : 반도체 가격, 타사 생산량, 환율, 스마트폰 판매량, 서버 판매량, 원자재 지수 등  \n",
        "모델 : 예측문제를 해결하기 위한 regression 모델\n",
        "\n",
        "> 3. 이미지 처리 기반 제조 공정 불량 분류 자동화  \n",
        "종속변수 : 조립공정 불량품 분류  \n",
        "설명변수 : 공정 별 제품 이미지 샘플  \n",
        "모델 : 이미지 처리를 위한 딥러닝 CNN 분류 모델  \n",
        "\n",
        "복잡한 문제를 해결해야 할 경우 위의 1개 문제 = 1개 데이터셋의 원칙을 지키면 혼동이 덜 함    "
      ]
    },
    {
      "cell_type": "markdown",
      "metadata": {
        "id": "ol2-BhQQ4lmi"
      },
      "source": [
        "### 데이터수집\n",
        "분석에 필요한 설명변수, 종속변수에 따라 데이터 수집\n",
        "\n",
        "> - 사내데이터 활용  \n",
        "- 데이터셋 활용  \n",
        "- 크롤링  \n",
        "- API  \n",
        "    \n",
        "실제 수집이 불가능한 데이터가 있을 수 있음.  \n",
        "데이터 수집이 불가능 할 경우 문제정의 단계에서 문제정의를 다시 해야 함."
      ]
    },
    {
      "cell_type": "markdown",
      "metadata": {
        "id": "wZlVs2R_4lmi"
      },
      "source": [
        "### 데이터탐색\n",
        "\n",
        "pandas, 시각화등 다양한 EDA 방법을 사용하여 수집데이터를 흝어보는 과정  \n",
        "수집된 데이터가 문제에 적합하지 않거나 사용이 불가능한 경우, 문제정의 혹은 데이터 수집 단계 다시 수행.\n",
        "\n",
        "> - 기술통계  \n",
        "- 결측치, 이상치 탐색  \n",
        "- 공분산 탐색  "
      ]
    },
    {
      "cell_type": "markdown",
      "metadata": {
        "id": "RWyPKjao4lmj"
      },
      "source": [
        "### 데이터전처리\n",
        "수집된 데이터를 모델링이 가능한 형태로 가공하는 작업  \n",
        "실제 프로젝트 진행 시 가장 어렵고, 시간이 많이 소요되는 과정\n",
        "\n",
        "> - 데이터 병합  \n",
        "- 데이터 형변환  \n",
        "- 더미화  \n",
        "- 클래스불균형 해결  \n",
        "- 차원축소  \n",
        "- 재샘플링"
      ]
    },
    {
      "cell_type": "markdown",
      "metadata": {
        "id": "dUemBkWh4lmj"
      },
      "source": [
        "### 모델링\n",
        "실제로 가장 손쉬운 과정  \n",
        "문제해결에 알맞는 모델 탐색 및 최적모델 탐색  \n",
        "사람의 공수가 아닌 하드웨어 스펙에 따라 작업시간 단축  \n",
        "\n",
        "> - 모델 선택  \n",
        "- 모수 추정  \n",
        "- 모델 학습  \n",
        "- 파라메터 서칭  "
      ]
    },
    {
      "cell_type": "markdown",
      "metadata": {
        "id": "FxWjB4d54lmj"
      },
      "source": [
        "### 모델평가\n",
        "모델학습에 사용되지 않은 테스트 데이터를 모델에 적용하여 모델의 성능을 객관적으로 평가\n",
        "예측/분류에 사용가능한 여러가지 모델평가 방법을 적용함.\n",
        "\n",
        "> - 예측 : 제곱오차 혹은 설명력 평가\n",
        "- 분류 : 오분류 평가  "
      ]
    },
    {
      "cell_type": "markdown",
      "metadata": {
        "id": "RZY91F9H4lmj"
      },
      "source": [
        "### 결과보고서 작성\n",
        "문제정의부터 모델평가까지 데이터분석 프로젝트 전 과정에 대한 진행경과, 결과, 문제점, 해결방법을 기술\n",
        "\n",
        "> - 시각화  \n",
        "- 활용방안  \n",
        "- 운영방안"
      ]
    },
    {
      "cell_type": "markdown",
      "metadata": {
        "id": "BdUxRsWdP91D"
      },
      "source": [
        "## Linear Regression 모델\n",
        "> **`Linear Regression`** 은 **예측**을 위한 **지도학습** 머신러닝 모델   \n",
        "종속변수가 존재해야하며 종속변수의 데이터가 **연속형**일 경우 사용  \n",
        "ex) 주가, 매출, 키, 몸무게, 대출금액 예측문제  \n",
        "사용해야하는 설명변수의 갯수에 따라 설명변수 하나를 사용하는 **단순회귀모델**과 설명변수 여러개를 사용하는 **다중회귀모델**로 구분  \n",
        "실제로는 다중회귀모델을 많이 사용하며 종속변수가 여러개인 **multi-output linear**  \n",
        "설명변수에 패널티를 추가한 **`Lasso`**, **`Ridge`** 모델까지 확장이 가능하다.  \n",
        ">> `y = f(x)` 의 기본적인 머신러닝 함수에서  \n",
        "`y` : 종속변수(예측하고자 하는 값, 타겟, 연속형 변수)  \n",
        "`f( )` : Linear model, 예측문제를 풀어내는 함수 혹은 모델  \n",
        "`x` : 설명변수(종속변수에 영향을 주는 데이터, feature, 연속형 혹은 이산형 변수) 로 설명이 가능하다."
      ]
    },
    {
      "cell_type": "markdown",
      "metadata": {
        "id": "qAUScmNLP91E"
      },
      "source": [
        "## 단순선형회귀모델(Simple Linear Regression)\n",
        "한 개의 독립 변수와 종속 변수 간 관계를 잘 설명하는 직선을 단순회귀모델이라고 한다.  \n",
        "\n",
        "단순회귀모델의 구조는 아래와 같습니다.  \n",
        "\n",
        "# $$ y_i = \\beta_0 + \\beta_1 x_i + \\varepsilon_i  $$  \n",
        "# $$ y_i = \\hat{y}+ \\varepsilon_i  $$  \n",
        "\n",
        "> $\\beta_0$ : 절편  \n",
        "$\\beta_1$ : 기울기  \n",
        "$x_i$ : $i$ 번째 샘플의 독립변수 값  \n",
        "$y_i$ : $i$ 번째 샘플의 종속변수 값  \n",
        "$\\hat{y}_i$ : $i$ 번째 샘플의 종속변수 예측 값 ($\\hat{y}_i = \\beta_0 + \\beta_1 x_i$)  \n",
        "$\\varepsilon_i$ : $i$ 번째 샘플의 예측 오차 ($y_i - \\hat{y}_i$)"
      ]
    },
    {
      "cell_type": "markdown",
      "metadata": {
        "id": "GW8TeR9sP91G"
      },
      "source": [
        "### 모델 학습(traing, fitting)\n",
        "회귀모델의 학습은 회귀모델에 포함된 계수인 $\\beta_0$ 와 $\\beta_1$을 추정한다.  \n",
        "최소자승법(least square method): 회귀모델은 오차의 제곱합을 최소화하는 방향으로 계수를 추정.  \n",
        "\n",
        "#### 비용 함수 (cost function)\n",
        "$$ Cost = {1\\over2n} \\sum_i^n{(y_i - \\hat y_i)^2}$$"
      ]
    },
    {
      "cell_type": "markdown",
      "metadata": {
        "id": "zul54jTMP91L"
      },
      "source": [
        "## 선형회귀모델의 평가\n",
        "선형회귀모델의 평가는 모델의 해석력, 그리고 모델의 설명력을 위한 평가방법으로 나눌 수 있습니다.  \n",
        "\n",
        "> **RMSE** : 평균제곱오차의 제곱근  \n",
        "예측모델에서 가장 많이 쓰이는 지표, 예측이 대략 평균적으로 RMSE만큼 오차가 난다고 해석합니다.\n",
        "  \n",
        "$$\\sqrt{{1\\over n}\\sum_i^n{(y_i - \\hat y_i)^2}}$$\n",
        "\n",
        "> **MAE** : 평균절대 오차  \n",
        "예측모델에서 종종 쓰이는 지표, 실제 예측값에 절대값을 씌워 예측결과 오차를 그대로 해석.  \n",
        "  \n",
        "$$\\sum_i^n{\\left\\vert(y_i - \\hat y_i)\\right\\vert}$$\n",
        "\n",
        "> **R2 score** : 결정계수 혹은 설명계수. 독립변수가 얼마나 종속변수를 잘 설명할 수 있는지 나타냄.  \n",
        "0과 1사이 범위에 있으며, 1에 가까울 수록 모델이 종속변수를 잘 설명한다고 해석한다.  \n",
        "일반적으로는 R2 score가 0.6 이상이여야 사용가능한 모델이라고 해석한다.\n",
        "\n",
        "<img src=\"https://drive.google.com/uc?id=1Ly4JaSDoulmSAiS_RG1EdX8nmFI26Wyy\">\n",
        "\n",
        "$$SST = SSR + SSE$$  \n",
        "$$R^2 = 1 - {SSR \\over SST}$$  \n",
        "$$={SSE \\over SST}$$  \n",
        "$$={선형모형오차 \\over 전체오차}$$"
      ]
    },
    {
      "cell_type": "markdown",
      "metadata": {
        "id": "NUY4j0uYP91M"
      },
      "source": [
        "## 다중선형회귀모델 (Multiple Linear Regression)\n",
        "독립 변수가 둘 이상인 가장 일반적인 형태의 선형회귀모델\n",
        "  \n",
        "다중선형회귀모델의 구조는 아래와 같습니다.  \n",
        "\n",
        "# $$ y_i = \\beta_0 + \\beta_1 x_{i,1} + \\beta_2 x_{i,2} + \\cdots + \\beta_p x_{i,p} + \\varepsilon_i  $$  \n",
        "\n",
        "> $\\beta_0$ : 절편  \n",
        "$\\beta_p$ : $p$번째 독립변수의 계수  \n",
        "$x_{i,p}$ : $i$ 번째 샘플의 $p$번째 독립변수 값  \n",
        "$y_i$ : $i$ 번째 샘플의 종속변수 값  \n",
        "$\\hat{y}_i$ : $i$ 번째 샘플의 종속변수 예측 값 ($\\hat{y}_i = \\beta_0 + \\beta_1 x_{i,1} + \\beta_2 x_{i,2} + \\cdots + \\beta_p x_{i,p}$)  \n",
        "$\\varepsilon_i$ : $i$ 번째 샘플의 예측 오차 ($y_i - \\hat{y}_i$)\n",
        "\n",
        "행렬과 벡터를 이용한 표현으로 아래와 같이 표현이 가능합니다.\n",
        "\n",
        "# $$ y = X\\beta + \\varepsilon $$\n",
        "\n",
        "<img src=\"https://drive.google.com/uc?id=1QF--aVlo89zNeH4O--Lp71DIFFSTXJf6\">"
      ]
    },
    {
      "cell_type": "markdown",
      "metadata": {
        "id": "hzvFjqYZP91M"
      },
      "source": [
        "### 모델학습 및 비용함수\n",
        "기본선형회귀모델과 마찬가지로 최소자승법을 사용합니다.\n",
        "\n",
        "#### 비용함수\n",
        "$$\\varepsilon = y - \\hat{y}$$  \n",
        "$$\\hat{y} = X\\beta$$  \n",
        "$$Q = \\varepsilon\\varepsilon^T = (y - \\hat{y})(y - \\hat{y})^T$$  \n",
        "$$ =(y - X\\beta)(y^T - X^T\\beta^T) $$  \n",
        "$$ =yy^T - yX^T\\beta^T - X\\beta y^T + X\\beta X^T\\beta^T$$\n",
        "\n",
        "$$ {\\partial Q \\over \\partial \\beta} = 0 \\Rightarrow \\beta = (X^TX)^{-1}X^Ty$$\n",
        "(행렬-벡터 미분 생략)"
      ]
    },
    {
      "cell_type": "markdown",
      "metadata": {
        "id": "fVuYIYAGP91N"
      },
      "source": [
        "## 정규화 모델\n",
        "> 일반적으로 샘플 수가 변수 갯수보다 적거나 크게 많지 않다면 회귀모델은 **과적합(overfitting)** 되는 경향이 있습니다.  \n",
        "회귀모델은 종속변수와 큰 관계가 없는 변수를 없애 주지 못함(수작업 필요).   \n",
        "이를 해결하기 위하여 설명 변수가 너무 많으면 정규화(규제)를 통해 이를 해결합니다.  \n",
        "> 수학적으로는 $\\beta = (X^TX)^{-1}X^Ty$ 에서 $(X^TX)$의 역행렬을 구할 수 없어 해가 없음. \n",
        "최소자승법은 $\\beta_i = 0$을 만들어주지 못함.  \n",
        "\n",
        "### 과적합(overfitting)  \n",
        "> 학습 데이터로 학습한 모델의 테스트 데이터 예측 성능이 떨어지는 경우  \n",
        "모델이 일반화를 잘 못 시키는 상태. 실제 데이터 예측을 잘 못한다고 해석이 가능합니다.\n",
        "\n",
        "<img src=\"https://drive.google.com/uc?id=1szCkyN_9u5Dkn-b5Q5YbitKbOtzqkkrB\">\n",
        "<img src=\"https://drive.google.com/uc?id=1GVNnqsvh1wIOop5jB-vFwxsNquRn1ruX\">"
      ]
    },
    {
      "cell_type": "markdown",
      "metadata": {
        "id": "xMvVzjzQP91N"
      },
      "source": [
        "### Lasso 모델\n",
        "> 기존 회귀모델의 비용함수에 계수 패널티$\\lambda\\sum_{j=1}^p\\left\\vert\\beta_j\\right\\vert$를 추가\n",
        "$$\\sum_{i=1}^n{(y_i - \\hat y_i)^2} + \\lambda\\sum_{j=1}^p\\left\\vert\\beta_j\\right\\vert$$  \n",
        "**불필요한 변수의 회귀계수의 크기를 0**으로 만듬  \n",
        "많은 변수에 큰 패널티를 주며 불필요한 독립변수가 많을 경우 Lasso 모델을 사용합니다.\n",
        "<img src=\"https://drive.google.com/uc?id=1dfgw998nZMEx2IYMBrF8h9Oov1I0KKpv\">\n",
        "\n",
        "### Ridge 모델\n",
        "> 기존 회귀모델의 비용함수에 계수 패널티$\\lambda\\sum_{j=1}^p\\beta_j^2$를 추가\n",
        "$$\\sum_{i=1}^n{(y_i - \\hat y_i)^2} + \\lambda\\sum_{j=1}^p\\beta_j^2$$  \n",
        "불필요한 변수의 **회귀계수의 크기를 감소**시킴  \n",
        "많은 변수에 작은 패널티를 주며 독립변수가 적을 경우 Ridge 모델을 사용한다.\n",
        "<img src=\"https://drive.google.com/uc?id=1Auobpo3aWiHGLqmyqjksxOD69XRDRdFy\">"
      ]
    },
    {
      "cell_type": "markdown",
      "metadata": {
        "id": "CrntSFs7P91P"
      },
      "source": [
        "## 다항회귀\n",
        "> 일반적인 선형회귀의 경우 설명변수와 종속변수의 관계를 선형으로만 설명이 가능합니다.  \n",
        "하지만 실제 문제에서 선형으로 해결이 불가능한 경우가 많음  \n",
        "**변수의 특성을 비선형**으로 새로운 변수를 만들고 동일한 선형모델을 적용시킬 수 있다.  \n",
        "2차원 예시 $x_1, x_2, x_3$를 $x_1^2, x_2^2, x_3^2, x_1x_2, x_1x_3, x_2x_3$  \n",
        "보통 2차원 또는 3차원까지 적용하며, 변수가 많아지므로 Ridge, Lasso 모델을 적용한다."
      ]
    }
  ]
}